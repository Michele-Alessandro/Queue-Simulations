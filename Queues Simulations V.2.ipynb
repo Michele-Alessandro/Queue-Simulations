{
 "cells": [
  {
   "cell_type": "markdown",
   "metadata": {},
   "source": [
    "# Queuing Models\n",
    "\n",
    "Built upon PROBABILITY, MARKOV CHAINS, QUEUES, AND SIMULATION, William R. Steward, P. 682"
   ]
  },
  {
   "cell_type": "markdown",
   "metadata": {},
   "source": [
    "### Import librairies"
   ]
  },
  {
   "cell_type": "code",
   "execution_count": 589,
   "metadata": {},
   "outputs": [],
   "source": [
    "import matplotlib.pyplot as plt\n",
    "from IPython import display # Dynamic plot\n",
    "from math import *\n",
    "import numpy as np\n",
    "import random\n",
    "import seaborn as sns\n",
    "import pandas as pd\n",
    "import time"
   ]
  },
  {
   "cell_type": "markdown",
   "metadata": {},
   "source": [
    "### Define simulation functions"
   ]
  },
  {
   "cell_type": "code",
   "execution_count": 977,
   "metadata": {},
   "outputs": [],
   "source": [
    "def Random_sample(param, model):\n",
    "    if model == 'D':\n",
    "        return param\n",
    "    else:\n",
    "        return random.expovariate(param)"
   ]
  },
  {
   "cell_type": "code",
   "execution_count": null,
   "metadata": {},
   "outputs": [],
   "source": [
    "## WIP ##\n",
    "def Pannes(batch_size, probability):\n",
    "    random_sample = random.random()\n",
    "    return"
   ]
  },
  {
   "cell_type": "code",
   "execution_count": 1379,
   "metadata": {},
   "outputs": [],
   "source": [
    "def Simulation(parameters, N):\n",
    "    #Initialization\n",
    "    start_time = time.time()\n",
    "    col_C = ['priority', 'status', 'arrival time', 'service time', 'departure time']\n",
    "    Customers = pd.DataFrame(columns = col_C)\n",
    "    col_Q = ['time', 'waiting P0', 'waiting P1', 'servicing',' P0 serviced',' P1 serviced','lost','servers live']\n",
    "    Queue = pd.DataFrame(columns = col_Q)\n",
    "    n, n_service, n_serviced, n_lost, n_P0_serviced, n_P0_waiting = 0, 0, 0, 0, 0, 0\n",
    "    P0_batch = 0\n",
    "    P0_index, P1_index = [], []\n",
    "    servers_in_use = 0\n",
    "    t, t_latest_departure = 0, np.inf\n",
    "    t_next_arrival = Random_sample(parameters['lmbda'], parameters['arrival model'])\n",
    "    #departing_index = -1\n",
    "    \n",
    "    if parameters['priority'] == True:\n",
    "        t_next_priority = Random_sample(parameters['priority lmbda'], parameters['priority model'])\n",
    "        next_priority = 'P0' if t_next_priority < t_next_arrival else 'P1'\n",
    "    else: \n",
    "        t_next_priority = np.inf\n",
    "        next_priority = 'P1'\n",
    "    t_latest_arrival = min(t_next_arrival, t_next_priority) \n",
    "    Queue.loc[Queue.shape[0]] = [t, n_P0_waiting , n - n_service - n_P0_waiting, n_service, n_P0_serviced, n_serviced - n_P0_serviced, n_lost, parameters[\"c\"]]\n",
    "    \n",
    "    while Customers[Customers['status']=='Serviced'].shape[0] < N:\n",
    "\n",
    "        if t_latest_arrival < t_latest_departure: #Arrival event\n",
    "            t = t_latest_arrival\n",
    "            n_serviced = Customers[Customers['status']=='Serviced'].shape[0]\n",
    "            \n",
    "            if n < N-n_serviced: #Queue still open\n",
    "                Customers.loc[Customers.shape[0]] = [next_priority, 'Waiting', t, -1.0, -1.0]\n",
    "                if n - n_service < parameters[\"K\"]: #Queue not full\n",
    "                    n += 1\n",
    "                    \n",
    "                    if servers_in_use < parameters[\"c\"]: #Server available\n",
    "                        servers_in_use += 1 \n",
    "                        b = parameters['units'] * parameters[\"unit_size\"] #Define batch size + pannes coming soon\n",
    "                        batch = min(b,Customers[Customers['status']=='Waiting'].shape[0])\n",
    "                        #batch = 1\n",
    "                        n_service += batch\n",
    "                        print(t)\n",
    "                        t_depart = t + Random_sample(parameters['mu'], parameters['service model'])\n",
    "                        \n",
    "                        Customers.loc[Customers.shape[0]-batch:,'status'] = ['In service']\n",
    "                        Customers.loc[Customers.shape[0]-batch:,['service time', 'departure time']] =[float(t), float(t_depart)]\n",
    "\n",
    "                        t_latest_departure  = min(Customers[Customers['departure time'] > t]['departure time'])\n",
    "                        #departing_index = Customers[Customers['departure time'] > t]['departure time'].idxmin()\n",
    "                else: #Queue open but full: customer lost\n",
    "                    n_lost += 1\n",
    "                    Customers.loc[Customers.shape[0]-1, 'status'] = ['Lost']\n",
    "            \n",
    "            if next_priority == 'P1':\n",
    "                t_next_arrival = t + Random_sample(parameters['lmbda'], parameters['arrival model'])\n",
    "            if next_priority == 'P0':\n",
    "                t_next_priority = t + Random_sample(parameters['priority lmbda'], parameters['priority model'])\n",
    "            next_priority = 'P0' if t_next_priority < t_next_arrival else 'P1'\n",
    "            t_latest_arrival = min(t_next_arrival, t_next_priority)\n",
    "            #print(t_next_arrival, t_next_priority, next_priority, t_latest_arrival)\n",
    "                \n",
    "        else: #Departure event\n",
    "            batch = Customers.loc[(Customers['departure time'] == t_latest_departure) & (Customers['status'] == 'In service')].shape[0] #Get completed batch data\n",
    "            t = t_latest_departure\n",
    "            n -= batch\n",
    "            n_service -= batch\n",
    "            servers_in_use -= 1\n",
    "            Customers.loc[(Customers['departure time'] == t_latest_departure) & (Customers['status'] == 'In service'),'status'] = ['Serviced']\n",
    "            n_serviced = Customers[Customers['status'] == 'Serviced'].shape[0]\n",
    "            \n",
    "            if servers_in_use < parameters[\"c\"] and n-n_service > 0: # Free server serves next customer waiting\n",
    "                b = parameters['units'] * parameters[\"unit_size\"]\n",
    "                batch = min(b, Customers[Customers['status'] == 'Waiting'].shape[0])\n",
    "                servers_in_use += 1\n",
    "                n_service += batch\n",
    "                t_depart = t + Random_sample(parameters['mu'], parameters['service model'])\n",
    "                \n",
    "                if Customers.loc[(Customers['priority'] == 'P0') & (Customers['status']=='Waiting')].shape[0] > 0:\n",
    "                    P_0 = Customers[Customers['priority'] == 'P0']\n",
    "                    #next_in_line = P[Customers['status'] == 'Waiting']['arrival time'].idxmin()\n",
    "                    P0_batch = min(b, P_0[P_0['status'] == 'Waiting'].shape[0])\n",
    "                    P0_index = P_0.index[P_0['status'] == 'Waiting'].tolist()\n",
    "                    Customers.loc[P0_index[:P0_batch], ['status', 'service time', 'departure time']] = ['In service', t, t_depart]\n",
    "                    if batch - P0_batch > 0: # Room for P1 customers\n",
    "                        P_1 = Customers[Customers['status'] == 'Waiting']\n",
    "                        P1_index = P_1.index[P_1['priority'] == 'P1'].tolist()\n",
    "                        Customers.loc[P1_index[:(batch - P0_batch)],['status', 'service time', 'departure time']] = ['In service', t, t_depart]\n",
    "                    \n",
    "                else:\n",
    "                    next_in_line = Customers[Customers['status'] == 'Waiting']['arrival time'].idxmin()\n",
    "                    Customers.loc[next_in_line:next_in_line + batch - 1,['status', 'service time', 'departure time']] = ['In service', t, t_depart]\n",
    "            \n",
    "            try: #Generate next departure time\n",
    "                t_latest_departure  = min(Customers[Customers['departure time'] > t]['departure time'])\n",
    "                #departing_index = Customers[Customers['departure time'] > t]['departure time'].idxmin()\n",
    "            except (ValueError, TypeError):\n",
    "                t_latest_departure = np.inf\n",
    "        \n",
    "        n_P0_waiting = Customers.loc[(Customers['priority'] == 'P0') & (Customers['status'] == 'Waiting')].shape[0]\n",
    "        n_P0_serviced = Customers.loc[(Customers['status'] == 'Serviced') & (Customers['priority'] == 'P0')].shape[0]\n",
    "        Queue.loc[Queue.shape[0]] = [t, n_P0_waiting , n - n_service - n_P0_waiting, n_service, n_P0_serviced, n_serviced - n_P0_serviced, n_lost, parameters[\"c\"]]\n",
    "        #print(Customers)\n",
    "    sim_time = time.time() - start_time #Time to compute\n",
    "    return Customers, Queue, sim_time\n",
    "                    "
   ]
  },
  {
   "cell_type": "code",
   "execution_count": 1380,
   "metadata": {},
   "outputs": [],
   "source": [
    "def performance(C, Q, sim_time):\n",
    "    S = C[C.loc[:,'status']=='Serviced'].copy()\n",
    "    S.loc[:,'waited'] = S.loc[:,'service time'] - S.loc[:,'arrival time']\n",
    "    S.loc[:,'serviced'] = S.loc[:,'departure time'] - S.loc[:,'service time']\n",
    "    Q2 = Q.copy()\n",
    "    Q2.loc[:,'time diff'] = Q2.loc[:, 'time'] - Q2.loc[:, 'time'].shift(1)\n",
    "    Q2 = Q2.iloc[1:]\n",
    "    Q2.loc[:,'weighted wait'] = Q2.loc[:,'time diff'] * Q2.loc[:, 'waiting P1']\n",
    "    Q3 = Q2[Q2.loc[:,'waiting P1'] > 0].copy()\n",
    "    \n",
    "    interarrival = round((C['arrival time'].iloc[-1] - C['arrival time'].iloc[0])/C.shape[0], 2)\n",
    "    avg_wait = round(S['waited'].sum()/N, 2)\n",
    "    avg_service = round(S['serviced'].sum()/N, 2)\n",
    "    mean_length = round(Q2['weighted wait'].sum()/max(Q['time']), 2)\n",
    "    mean_length_nn = round(Q3['weighted wait'].sum()/Q3['time diff'].sum(), 2)\n",
    "    Q2.loc[:,'Var'] = (Q2.loc[:,'weighted wait'] - mean_length)**2\n",
    "    queue_variance = round(sqrt(Q2['Var'].sum()/(Q2.shape[0]-1)), 2)\n",
    "    lost = max(Q['lost'])\n",
    " \n",
    "    print(\"Mean interarrival time: {}\".format(interarrival))\n",
    "    print(\"Mean queueing time (excl. service): {}\".format(avg_wait))\n",
    "    print(\"Mean service time: {}\".format(avg_service))\n",
    "    print(\"Mean queue length: {}\".format(mean_length))\n",
    "    print(\"Mean queue length (non-zero): {}\".format(mean_length_nn))\n",
    "    print(\"Queue stdev: {}\".format(queue_variance))\n",
    "    print(\"Customers lost: {}\".format(int(lost)))\n",
    "    print(\" \")\n",
    "    print(\"Simulation duration: {} seconds\".format(round(sim_time, 2)))"
   ]
  },
  {
   "cell_type": "markdown",
   "metadata": {},
   "source": [
    "### Simulations"
   ]
  },
  {
   "cell_type": "markdown",
   "metadata": {},
   "source": [
    "parameters = {\n",
    "    \n",
    "    \"lmbda\": interrarrival time parameter 1/mean\n",
    "    , \"mu\": service time parameter 1/mean\n",
    "    , \"c\": number of servers\n",
    "    , \"K\": max queue capacity (if infinite type np.inf)\n",
    "    , \"units\": number of units\n",
    "    , \"unit_size\": unit capacity\n",
    "    , \"arrival model\": \"M\" for exponential, \"D\" for constant \n",
    "    , \"service model\": \"M\" for exponential, \"D\" for constant \n",
    "    , \"priority\": WIP \n",
    "    , \"priority lmbda\": WIP\n",
    "    , \"priority model\": WIP\n",
    "}\n",
    "\n",
    "N: number of customers to serve"
   ]
  },
  {
   "cell_type": "code",
   "execution_count": 1395,
   "metadata": {},
   "outputs": [],
   "source": [
    "parameters = {                    \n",
    "    \"lmbda\": 1                  #1/mean interarrival time\n",
    "    , \"mu\": 1                 #1/mean service time or constant\n",
    "    , \"c\": 1                            #number of servers\n",
    "    , \"K\": 100                       #max waiting length\n",
    "    , \"units\": 1                           #batch per server\n",
    "    , \"unit_size\": 1                           #batch per server\n",
    "    , \"arrival model\": 'M'  \n",
    "    , \"service model\": 'D'\n",
    "    \n",
    "    , \"priority\": True          \n",
    "    , \"priority lmbda\": 0.2       # 1 out of lmbda is a priority customer on average\n",
    "    , \"priority model\": 'M'\n",
    "}\n",
    "\n",
    "N = 2000"
   ]
  },
  {
   "cell_type": "code",
   "execution_count": 1396,
   "metadata": {
    "scrolled": true
   },
   "outputs": [
    {
     "name": "stdout",
     "output_type": "stream",
     "text": [
      "0.517110294405263\n",
      "Mean interarrival time: 0.83\n",
      "Mean queueing time (excl. service): 84.29\n",
      "Mean service time: 1.0\n",
      "Mean queue length: 83.94\n",
      "Mean queue length (non-zero): 84.05\n",
      "Queue stdev: 55.3\n",
      "Customers lost: 291\n",
      " \n",
      "Simulation duration: 31.58 seconds\n"
     ]
    }
   ],
   "source": [
    "C, Q, sim_time = Simulation(parameters, N)\n",
    "performance(C, Q, sim_time)"
   ]
  },
  {
   "cell_type": "code",
   "execution_count": 1398,
   "metadata": {},
   "outputs": [
    {
     "data": {
      "image/png": "[encoded data removed]",
      "text/plain": [
       "<Figure size 720x432 with 1 Axes>"
      ]
     },
     "metadata": {
      "needs_background": "light"
     },
     "output_type": "display_data"
    }
   ],
   "source": [
    "fig, ax =plt.subplots(figsize=(10, 6))\n",
    "plt.step('time','waiting P1',data=Q)\n",
    "plt.step('time','waiting P0',data=Q)\n",
    "plt.title(f\"{parameters['arrival model']}/{parameters['service model']}/{parameters['c']}[{parameters['unit_size']}x{parameters['units']}]/{parameters['K']} simulation with lambda = {parameters['lmbda']}, mu = {parameters['mu']}\")\n",
    "plt.xlabel(\"Time\")\n",
    "plt.ylabel(\"Queue length\")\n",
    "plt.legend([\"P1 Priority\", \"P0 Priority\"])\n",
    "plt.show()"
   ]
  },
  {
   "cell_type": "code",
   "execution_count": null,
   "metadata": {},
   "outputs": [],
   "source": []
  }
 ],
 "metadata": {
  "kernelspec": {
   "display_name": "Python 3",
   "language": "python",
   "name": "python3"
  },
  "language_info": {
   "codemirror_mode": {
    "name": "ipython",
    "version": 3
   },
   "file_extension": ".py",
   "mimetype": "text/x-python",
   "name": "python",
   "nbconvert_exporter": "python",
   "pygments_lexer": "ipython3",
   "version": "3.8.3"
  }
 },
 "nbformat": 4,
 "nbformat_minor": 4
}
